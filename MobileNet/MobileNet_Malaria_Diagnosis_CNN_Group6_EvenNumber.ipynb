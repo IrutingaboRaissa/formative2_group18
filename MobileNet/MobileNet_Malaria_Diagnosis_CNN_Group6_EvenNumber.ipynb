{
  "cells": [
    {
      "cell_type": "markdown",
      "metadata": {
        "id": "pVGxk2vaTc2Z"
      },
      "source": [
        "# Deep Learning for Malaria Diagnosis\n",
        "This notebook is inspired by works of (Sivaramakrishnan Rajaraman  et al., 2018) and (Jason Brownlee, 2019). Acknowledge to NIH and Bangalor Hospital who make available this malaria dataset."
      ]
    },
    {
      "cell_type": "markdown",
      "metadata": {
        "id": "C_hxzrVpanrY"
      },
      "source": [
        "Malaria is an infectuous disease caused by parasites that are transmitted to people through the bites of infected female Anopheles mosquitoes.\n",
        "\n",
        "The Malaria burden with some key figures:\n",
        "<font color='red'>\n",
        "* More than 219 million cases\n",
        "* Over 430 000 deaths in 2017 (Mostly: children & pregnants)\n",
        "* 80% in 15 countries of Africa & India\n",
        "  </font>\n",
        "\n",
        "![MalariaBurd](https://github.com/habiboulaye/ai-labs/blob/master/malaria-diagnosis/doc-images/MalariaBurden.png?raw=1)\n",
        "\n",
        "The malaria diagnosis is performed using blood test:\n",
        "* Collect patient blood smear\n",
        "* Microscopic visualisation of the parasit\n",
        "\n",
        "![MalariaDiag](https://github.com/habiboulaye/ai-labs/blob/master/malaria-diagnosis/doc-images/MalariaDiag.png?raw=1)\n",
        "  \n",
        "Main issues related to traditional diagnosis:\n",
        "<font color='#ed7d31'>\n",
        "* resource-constrained regions\n",
        "* time needed and delays\n",
        "* diagnosis accuracy and cost\n",
        "</font>\n",
        "\n",
        "The objective of this notebook is to apply modern deep learning techniques to perform medical image analysis for malaria diagnosis."
      ]
    },
    {
      "cell_type": "code",
      "execution_count": 1,
      "metadata": {
        "id": "_4Ph8e1uojEC"
      },
      "outputs": [],
      "source": [
        "\n",
        "import os\n",
        "import random\n",
        "import shutil\n",
        "import numpy as np\n",
        "import matplotlib.pyplot as plt\n",
        "import seaborn as sns\n",
        "import pandas as pd\n",
        "\n",
        "import tensorflow as tf\n",
        "from tensorflow.keras import layers, models\n",
        "from tensorflow.keras.models import Model, Sequential\n",
        "from tensorflow.keras.layers import Dense, Dropout, GlobalAveragePooling2D, Conv2D, MaxPooling2D, Flatten\n",
        "from tensorflow.keras.preprocessing.image import ImageDataGenerator\n",
        "from tensorflow.keras.optimizers import Adam\n",
        "from tensorflow.keras.applications import MobileNetV2\n",
        "from tensorflow.keras.callbacks import EarlyStopping, ReduceLROnPlateau\n",
        "from tensorflow.keras.callbacks import EarlyStopping, ReduceLROnPlateau, ModelCheckpoint\n",
        "from tensorflow.keras.preprocessing import image\n",
        "\n",
        "from sklearn.metrics import confusion_matrix, classification_report, roc_curve, auc\n",
        "from sklearn.metrics import precision_score, recall_score, f1_score, accuracy_score\n"
      ]
    },
    {
      "cell_type": "code",
      "execution_count": 2,
      "metadata": {
        "colab": {
          "base_uri": "https://localhost:8080/"
        },
        "id": "SOvmLtdRgSIb",
        "outputId": "2d38f1a8-623a-44cf-f97f-52bd48cb8fa0"
      },
      "outputs": [
        {
          "name": "stdout",
          "output_type": "stream",
          "text": [
            "Image size: 128x128\n",
            "Batch size: 32\n",
            "Training epochs: 20\n",
            "MobileNet epochs (FE/FT): 6/8\n",
            "Data directory: .\\cell_images\n"
          ]
        }
      ],
      "source": [
        "# Configuration parameters\n",
        "IMG_HEIGHT, IMG_WIDTH = 128, 128\n",
        "BATCH_SIZE = 32\n",
        "EPOCHS = 20\n",
        "SEED = 42\n",
        "\n",
        "# MobileNet experiment epochs (fast but decent)\n",
        "EPOCHS_MOBILENET_FE = 6   # feature extraction\n",
        "EPOCHS_MOBILENET_FT = 8   # fine-tuning\n",
        "\n",
        "# Data paths\n",
        "ai_project = '.'\n",
        "cell_images_dir = os.path.join(ai_project, 'cell_images')\n",
        "training_path = os.path.join(ai_project, 'train')\n",
        "validation_path = os.path.join(ai_project, 'validation')\n",
        "testing_path = os.path.join(ai_project, 'test')\n",
        "\n",
        "print(f\"Image size: {IMG_HEIGHT}x{IMG_WIDTH}\")\n",
        "print(f\"Batch size: {BATCH_SIZE}\")\n",
        "print(f\"Training epochs: {EPOCHS}\")\n",
        "print(f\"MobileNet epochs (FE/FT): {EPOCHS_MOBILENET_FE}/{EPOCHS_MOBILENET_FT}\")\n",
        "print(f\"Data directory: {cell_images_dir}\")"
      ]
    },
    {
      "cell_type": "markdown",
      "metadata": {
        "id": "AbVHwvDkTc2e"
      },
      "source": [
        "## Dataset Download\n",
        "\n",
        "We'll download the malaria cell images dataset from Kaggle."
      ]
    },
    {
      "cell_type": "code",
      "execution_count": 3,
      "metadata": {
        "id": "R7GwKdrUTc2f",
        "outputId": "a9d587f8-d090-456e-d227-8be1912cae0b"
      },
      "outputs": [
        {
          "name": "stdout",
          "output_type": "stream",
          "text": [
            "Downloading malaria cell images dataset...\n"
          ]
        },
        {
          "name": "stderr",
          "output_type": "stream",
          "text": [
            "'rm' is not recognized as an internal or external command,\n",
            "operable program or batch file.\n",
            "'wget' is not recognized as an internal or external command,\n",
            "operable program or batch file.\n",
            "The system cannot find the path specified.\n"
          ]
        },
        {
          "name": "stdout",
          "output_type": "stream",
          "text": [
            "Download verification failed. Please check the download.\n"
          ]
        },
        {
          "name": "stderr",
          "output_type": "stream",
          "text": [
            "'ls' is not recognized as an internal or external command,\n",
            "operable program or batch file.\n"
          ]
        }
      ],
      "source": [
        "# Dataset download configuration\n",
        "downloadData = True\n",
        "indrive = False  # Set to True if running on Google Drive\n",
        "\n",
        "if downloadData:\n",
        "    print(\"Downloading malaria cell images dataset...\")\n",
        "\n",
        "    if indrive:\n",
        "        # For Google Drive storage (Colab)\n",
        "        !wget https://data.lhncbc.nlm.nih.gov/public/Malaria/cell_images.zip -P \"/content/drive/My Drive/Colab Notebooks/ai-labs/malaria-diagnosis\"\n",
        "        !unzip \"/content/drive/My Drive/Colab Notebooks/ai-labs/malaria-diagnosis/cell_images.zip\" -d \"/content/drive/My Drive/Colab Notebooks/ai-labs/malaria-diagnosis/\"\n",
        "        !ls \"/content/drive/My Drive/Colab Notebooks/ai-labs/malaria-diagnosis\"\n",
        "    else:\n",
        "        # For local or cloud server\n",
        "        !rm -rf cell_images.*  # Clean up any existing files\n",
        "        !wget https://data.lhncbc.nlm.nih.gov/public/Malaria/cell_images.zip\n",
        "        !unzip cell_images.zip >/dev/null 2>&1\n",
        "        !ls\n",
        "\n",
        "        # Verify the download\n",
        "        if os.path.exists(cell_images_dir):\n",
        "            parasitized_count = len(os.listdir(os.path.join(cell_images_dir, 'Parasitized')))\n",
        "            uninfected_count = len(os.listdir(os.path.join(cell_images_dir, 'Uninfected')))\n",
        "            print(f\"Dataset downloaded successfully!\")\n",
        "            print(f\"- Parasitized: {parasitized_count:,} images\")\n",
        "            print(f\"- Uninfected: {uninfected_count:,} images\")\n",
        "            print(f\"- Total: {parasitized_count + uninfected_count:,} images\")\n",
        "        else:\n",
        "            print(\"Download verification failed. Please check the download.\")\n",
        "\n",
        "else:\n",
        "    print(\"Dataset download skipped (downloadData=False)\")\n",
        "    if os.path.exists(cell_images_dir):\n",
        "        print(\"Using existing dataset\")\n",
        "    else:\n",
        "        print(\"Warning: No dataset found. Please set downloadData=True or download manually.\")"
      ]
    },
    {
      "cell_type": "markdown",
      "metadata": {
        "id": "7Rk_ffmzTc2f"
      },
      "source": [
        "## Data Preparation\n",
        "\n",
        "We need to prepare our malaria cell image dataset for training both models."
      ]
    },
    {
      "cell_type": "code",
      "execution_count": 4,
      "metadata": {
        "id": "h0N56PnqTc2g",
        "outputId": "0a812ef6-b6be-48d4-d4c8-2a7aa59c4437"
      },
      "outputs": [
        {
          "name": "stdout",
          "output_type": "stream",
          "text": [
            "Data directories created successfully!\n",
            "Warning: .\\cell_images\\Parasitized not found. Please ensure the dataset is downloaded.\n",
            "Warning: .\\cell_images\\Uninfected not found. Please ensure the dataset is downloaded.\n",
            "Data split completed!\n",
            "\n",
            "Data split summary:\n",
            "Training: 0 images\n",
            "Validation: 0 images\n",
            "Testing: 0 images\n"
          ]
        }
      ],
      "source": [
        "# Data preparation and splitting\n",
        "def create_directories():\n",
        "    for path in [training_path, validation_path, testing_path]:\n",
        "        if not os.path.exists(path):\n",
        "            os.makedirs(os.path.join(path, 'Parasitized'))\n",
        "            os.makedirs(os.path.join(path, 'Uninfected'))\n",
        "    print(\"Data directories created successfully!\")\n",
        "\n",
        "def split_data():\n",
        "    random.seed(42)  # For reproducible results\n",
        "\n",
        "    for class_name in ['Parasitized', 'Uninfected']:\n",
        "        class_dir = os.path.join(cell_images_dir, class_name)\n",
        "        if not os.path.exists(class_dir):\n",
        "            print(f\"Warning: {class_dir} not found. Please ensure the dataset is downloaded.\")\n",
        "            continue\n",
        "\n",
        "        images = [f for f in os.listdir(class_dir) if f.endswith(('.png', '.jpg', '.jpeg'))]\n",
        "        random.shuffle(images)\n",
        "\n",
        "        # Calculate split indices\n",
        "        train_split = int(0.6 * len(images))\n",
        "        val_split = int(0.8 * len(images))\n",
        "\n",
        "        print(f\"{class_name}: {len(images)} total images\")\n",
        "\n",
        "        # Copy images to respective directories\n",
        "        for i, img in enumerate(images):\n",
        "            src = os.path.join(class_dir, img)\n",
        "\n",
        "            if i < train_split:\n",
        "                dst = os.path.join(training_path, class_name, img)\n",
        "            elif i < val_split:\n",
        "                dst = os.path.join(validation_path, class_name, img)\n",
        "            else:\n",
        "                dst = os.path.join(testing_path, class_name, img)\n",
        "\n",
        "            if not os.path.exists(dst):\n",
        "                os.makedirs(os.path.dirname(dst), exist_ok=True)\n",
        "                shutil.copy2(src, dst)\n",
        "\n",
        "# Check if data split is needed\n",
        "parasitized_train_path = os.path.join(training_path, 'Parasitized')\n",
        "data_split_needed = not (os.path.exists(parasitized_train_path) and len(os.listdir(parasitized_train_path)) > 0)\n",
        "\n",
        "if data_split_needed:\n",
        "    create_directories()\n",
        "    split_data()\n",
        "    print(\"Data split completed!\")\n",
        "else:\n",
        "    print(\"Data already prepared!\")\n",
        "\n",
        "# Count images in each split (with error handling)\n",
        "try:\n",
        "    train_parasitized = len(os.listdir(os.path.join(training_path, 'Parasitized')))\n",
        "    train_uninfected = len(os.listdir(os.path.join(training_path, 'Uninfected')))\n",
        "    val_parasitized = len(os.listdir(os.path.join(validation_path, 'Parasitized')))\n",
        "    val_uninfected = len(os.listdir(os.path.join(validation_path, 'Uninfected')))\n",
        "    test_parasitized = len(os.listdir(os.path.join(testing_path, 'Parasitized')))\n",
        "    test_uninfected = len(os.listdir(os.path.join(testing_path, 'Uninfected')))\n",
        "\n",
        "    print(f\"\\nData split summary:\")\n",
        "    print(f\"Training: {train_parasitized + train_uninfected} images\")\n",
        "    print(f\"Validation: {val_parasitized + val_uninfected} images\")\n",
        "    print(f\"Testing: {test_parasitized + test_uninfected} images\")\n",
        "except FileNotFoundError as e:\n",
        "    print(f\"Error counting images: {e}\")\n",
        "    print(\"Please ensure the malaria dataset is downloaded and extracted to 'cell_images' directory\")\n",
        "    print(\"Expected structure:\")\n",
        "    print(\"  cell_images/\")\n",
        "    print(\"    Parasitized/\")\n",
        "    print(\"    Uninfected/\")"
      ]
    },
    {
      "cell_type": "markdown",
      "metadata": {
        "id": "dRmpL2yzTc2g"
      },
      "source": [
        "## Data Generators Setup\n",
        "\n",
        "We'll create data generators with augmentation for training and without augmentation for validation and testing."
      ]
    },
    {
      "cell_type": "code",
      "execution_count": 5,
      "metadata": {
        "id": "iWytBNjXTc2g",
        "outputId": "5f76a879-0236-4ce7-e332-5cabf0b38900"
      },
      "outputs": [
        {
          "name": "stdout",
          "output_type": "stream",
          "text": [
            "Found 0 images belonging to 2 classes.\n",
            "Found 0 images belonging to 2 classes.\n",
            "Found 0 images belonging to 2 classes.\n",
            "Training samples: 0\n",
            "Validation samples: 0\n",
            "Test samples: 0\n",
            "Class indices: {'Parasitized': 0, 'Uninfected': 1}\n"
          ]
        }
      ],
      "source": [
        "# Create data generators\n",
        "train_datagen = ImageDataGenerator(\n",
        "    rescale=1./255,\n",
        "    rotation_range=20,\n",
        "    width_shift_range=0.2,\n",
        "    height_shift_range=0.2,\n",
        "    horizontal_flip=True,\n",
        "    zoom_range=0.2,\n",
        "    fill_mode='nearest'\n",
        ")\n",
        "\n",
        "# No augmentation for validation and test data\n",
        "val_test_datagen = ImageDataGenerator(rescale=1./255)\n",
        "\n",
        "# Create data generators\n",
        "train_generator = train_datagen.flow_from_directory(\n",
        "    training_path,\n",
        "    target_size=(IMG_HEIGHT, IMG_WIDTH),\n",
        "    batch_size=BATCH_SIZE,\n",
        "    class_mode='binary',  # Binary classification\n",
        "    shuffle=True\n",
        ")\n",
        "\n",
        "validation_generator = val_test_datagen.flow_from_directory(\n",
        "    validation_path,\n",
        "    target_size=(IMG_HEIGHT, IMG_WIDTH),\n",
        "    batch_size=BATCH_SIZE,\n",
        "    class_mode='binary',\n",
        "    shuffle=False\n",
        ")\n",
        "\n",
        "test_generator = val_test_datagen.flow_from_directory(\n",
        "    testing_path,\n",
        "    target_size=(IMG_HEIGHT, IMG_WIDTH),\n",
        "    batch_size=BATCH_SIZE,\n",
        "    class_mode='binary',\n",
        "    shuffle=False\n",
        ")\n",
        "\n",
        "print(f\"Training samples: {train_generator.samples}\")\n",
        "print(f\"Validation samples: {validation_generator.samples}\")\n",
        "print(f\"Test samples: {test_generator.samples}\")\n",
        "print(f\"Class indices: {train_generator.class_indices}\")"
      ]
    },
    {
      "cell_type": "markdown",
      "metadata": {
        "id": "kvuylgkTTc2g"
      },
      "source": [
        "# MobileNet Transfer Learning\n",
        "\n",
        "Building and training MobileNetV2 with transfer learning for malaria diagnosis."
      ]
    },
    {
      "cell_type": "code",
      "execution_count": 6,
      "metadata": {
        "id": "yetabAASTc2h",
        "outputId": "72cd500f-4e70-4944-e828-d3680276a141"
      },
      "outputs": [
        {
          "data": {
            "text/html": [
              "<pre style=\"white-space:pre;overflow-x:auto;line-height:normal;font-family:Menlo,'DejaVu Sans Mono',consolas,'Courier New',monospace\"><span style=\"font-weight: bold\">Model: \"sequential\"</span>\n",
              "</pre>\n"
            ],
            "text/plain": [
              "\u001b[1mModel: \"sequential\"\u001b[0m\n"
            ]
          },
          "metadata": {},
          "output_type": "display_data"
        },
        {
          "data": {
            "text/html": [
              "<pre style=\"white-space:pre;overflow-x:auto;line-height:normal;font-family:Menlo,'DejaVu Sans Mono',consolas,'Courier New',monospace\">┏━━━━━━━━━━━━━━━━━━━━━━━━━━━━━━━━━┳━━━━━━━━━━━━━━━━━━━━━━━━┳━━━━━━━━━━━━━━━┓\n",
              "┃<span style=\"font-weight: bold\"> Layer (type)                    </span>┃<span style=\"font-weight: bold\"> Output Shape           </span>┃<span style=\"font-weight: bold\">       Param # </span>┃\n",
              "┡━━━━━━━━━━━━━━━━━━━━━━━━━━━━━━━━━╇━━━━━━━━━━━━━━━━━━━━━━━━╇━━━━━━━━━━━━━━━┩\n",
              "│ mobilenetv2_1.00_128            │ (<span style=\"color: #00d7ff; text-decoration-color: #00d7ff\">None</span>, <span style=\"color: #00af00; text-decoration-color: #00af00\">4</span>, <span style=\"color: #00af00; text-decoration-color: #00af00\">4</span>, <span style=\"color: #00af00; text-decoration-color: #00af00\">1280</span>)     │     <span style=\"color: #00af00; text-decoration-color: #00af00\">2,257,984</span> │\n",
              "│ (<span style=\"color: #0087ff; text-decoration-color: #0087ff\">Functional</span>)                    │                        │               │\n",
              "├─────────────────────────────────┼────────────────────────┼───────────────┤\n",
              "│ global_average_pooling2d        │ (<span style=\"color: #00d7ff; text-decoration-color: #00d7ff\">None</span>, <span style=\"color: #00af00; text-decoration-color: #00af00\">1280</span>)           │             <span style=\"color: #00af00; text-decoration-color: #00af00\">0</span> │\n",
              "│ (<span style=\"color: #0087ff; text-decoration-color: #0087ff\">GlobalAveragePooling2D</span>)        │                        │               │\n",
              "├─────────────────────────────────┼────────────────────────┼───────────────┤\n",
              "│ dropout (<span style=\"color: #0087ff; text-decoration-color: #0087ff\">Dropout</span>)               │ (<span style=\"color: #00d7ff; text-decoration-color: #00d7ff\">None</span>, <span style=\"color: #00af00; text-decoration-color: #00af00\">1280</span>)           │             <span style=\"color: #00af00; text-decoration-color: #00af00\">0</span> │\n",
              "├─────────────────────────────────┼────────────────────────┼───────────────┤\n",
              "│ dense (<span style=\"color: #0087ff; text-decoration-color: #0087ff\">Dense</span>)                   │ (<span style=\"color: #00d7ff; text-decoration-color: #00d7ff\">None</span>, <span style=\"color: #00af00; text-decoration-color: #00af00\">128</span>)            │       <span style=\"color: #00af00; text-decoration-color: #00af00\">163,968</span> │\n",
              "├─────────────────────────────────┼────────────────────────┼───────────────┤\n",
              "│ dropout_1 (<span style=\"color: #0087ff; text-decoration-color: #0087ff\">Dropout</span>)             │ (<span style=\"color: #00d7ff; text-decoration-color: #00d7ff\">None</span>, <span style=\"color: #00af00; text-decoration-color: #00af00\">128</span>)            │             <span style=\"color: #00af00; text-decoration-color: #00af00\">0</span> │\n",
              "├─────────────────────────────────┼────────────────────────┼───────────────┤\n",
              "│ dense_1 (<span style=\"color: #0087ff; text-decoration-color: #0087ff\">Dense</span>)                 │ (<span style=\"color: #00d7ff; text-decoration-color: #00d7ff\">None</span>, <span style=\"color: #00af00; text-decoration-color: #00af00\">1</span>)              │           <span style=\"color: #00af00; text-decoration-color: #00af00\">129</span> │\n",
              "└─────────────────────────────────┴────────────────────────┴───────────────┘\n",
              "</pre>\n"
            ],
            "text/plain": [
              "┏━━━━━━━━━━━━━━━━━━━━━━━━━━━━━━━━━┳━━━━━━━━━━━━━━━━━━━━━━━━┳━━━━━━━━━━━━━━━┓\n",
              "┃\u001b[1m \u001b[0m\u001b[1mLayer (type)                   \u001b[0m\u001b[1m \u001b[0m┃\u001b[1m \u001b[0m\u001b[1mOutput Shape          \u001b[0m\u001b[1m \u001b[0m┃\u001b[1m \u001b[0m\u001b[1m      Param #\u001b[0m\u001b[1m \u001b[0m┃\n",
              "┡━━━━━━━━━━━━━━━━━━━━━━━━━━━━━━━━━╇━━━━━━━━━━━━━━━━━━━━━━━━╇━━━━━━━━━━━━━━━┩\n",
              "│ mobilenetv2_1.00_128            │ (\u001b[38;5;45mNone\u001b[0m, \u001b[38;5;34m4\u001b[0m, \u001b[38;5;34m4\u001b[0m, \u001b[38;5;34m1280\u001b[0m)     │     \u001b[38;5;34m2,257,984\u001b[0m │\n",
              "│ (\u001b[38;5;33mFunctional\u001b[0m)                    │                        │               │\n",
              "├─────────────────────────────────┼────────────────────────┼───────────────┤\n",
              "│ global_average_pooling2d        │ (\u001b[38;5;45mNone\u001b[0m, \u001b[38;5;34m1280\u001b[0m)           │             \u001b[38;5;34m0\u001b[0m │\n",
              "│ (\u001b[38;5;33mGlobalAveragePooling2D\u001b[0m)        │                        │               │\n",
              "├─────────────────────────────────┼────────────────────────┼───────────────┤\n",
              "│ dropout (\u001b[38;5;33mDropout\u001b[0m)               │ (\u001b[38;5;45mNone\u001b[0m, \u001b[38;5;34m1280\u001b[0m)           │             \u001b[38;5;34m0\u001b[0m │\n",
              "├─────────────────────────────────┼────────────────────────┼───────────────┤\n",
              "│ dense (\u001b[38;5;33mDense\u001b[0m)                   │ (\u001b[38;5;45mNone\u001b[0m, \u001b[38;5;34m128\u001b[0m)            │       \u001b[38;5;34m163,968\u001b[0m │\n",
              "├─────────────────────────────────┼────────────────────────┼───────────────┤\n",
              "│ dropout_1 (\u001b[38;5;33mDropout\u001b[0m)             │ (\u001b[38;5;45mNone\u001b[0m, \u001b[38;5;34m128\u001b[0m)            │             \u001b[38;5;34m0\u001b[0m │\n",
              "├─────────────────────────────────┼────────────────────────┼───────────────┤\n",
              "│ dense_1 (\u001b[38;5;33mDense\u001b[0m)                 │ (\u001b[38;5;45mNone\u001b[0m, \u001b[38;5;34m1\u001b[0m)              │           \u001b[38;5;34m129\u001b[0m │\n",
              "└─────────────────────────────────┴────────────────────────┴───────────────┘\n"
            ]
          },
          "metadata": {},
          "output_type": "display_data"
        },
        {
          "data": {
            "text/html": [
              "<pre style=\"white-space:pre;overflow-x:auto;line-height:normal;font-family:Menlo,'DejaVu Sans Mono',consolas,'Courier New',monospace\"><span style=\"font-weight: bold\"> Total params: </span><span style=\"color: #00af00; text-decoration-color: #00af00\">2,422,081</span> (9.24 MB)\n",
              "</pre>\n"
            ],
            "text/plain": [
              "\u001b[1m Total params: \u001b[0m\u001b[38;5;34m2,422,081\u001b[0m (9.24 MB)\n"
            ]
          },
          "metadata": {},
          "output_type": "display_data"
        },
        {
          "data": {
            "text/html": [
              "<pre style=\"white-space:pre;overflow-x:auto;line-height:normal;font-family:Menlo,'DejaVu Sans Mono',consolas,'Courier New',monospace\"><span style=\"font-weight: bold\"> Trainable params: </span><span style=\"color: #00af00; text-decoration-color: #00af00\">164,097</span> (641.00 KB)\n",
              "</pre>\n"
            ],
            "text/plain": [
              "\u001b[1m Trainable params: \u001b[0m\u001b[38;5;34m164,097\u001b[0m (641.00 KB)\n"
            ]
          },
          "metadata": {},
          "output_type": "display_data"
        },
        {
          "data": {
            "text/html": [
              "<pre style=\"white-space:pre;overflow-x:auto;line-height:normal;font-family:Menlo,'DejaVu Sans Mono',consolas,'Courier New',monospace\"><span style=\"font-weight: bold\"> Non-trainable params: </span><span style=\"color: #00af00; text-decoration-color: #00af00\">2,257,984</span> (8.61 MB)\n",
              "</pre>\n"
            ],
            "text/plain": [
              "\u001b[1m Non-trainable params: \u001b[0m\u001b[38;5;34m2,257,984\u001b[0m (8.61 MB)\n"
            ]
          },
          "metadata": {},
          "output_type": "display_data"
        },
        {
          "name": "stdout",
          "output_type": "stream",
          "text": [
            "\\nMobileNetV2 model created successfully!\n",
            "Total parameters: 2,422,081\n",
            "Trainable parameters: 164,097\n",
            "Non-trainable parameters: 2,257,984\n"
          ]
        }
      ],
      "source": [
        "# Build MobileNetV2 model for transfer learning\n",
        "def create_mobilenet_model():\n",
        "    # Load pre-trained MobileNetV2 (without top classifier)\n",
        "    base_model = MobileNetV2(\n",
        "        weights='imagenet',\n",
        "        include_top=False,\n",
        "        input_shape=(IMG_HEIGHT, IMG_WIDTH, 3)\n",
        "    )\n",
        "\n",
        "    # Freeze the base model\n",
        "    base_model.trainable = False\n",
        "\n",
        "    # Add custom classifier\n",
        "    model = tf.keras.Sequential([\n",
        "        base_model,\n",
        "        GlobalAveragePooling2D(),\n",
        "        Dropout(0.3),\n",
        "        Dense(128, activation='relu'),\n",
        "        Dropout(0.2),\n",
        "        Dense(1, activation='sigmoid')  # Binary classification\n",
        "    ])\n",
        "\n",
        "    model.compile(\n",
        "        optimizer=Adam(learning_rate=0.001),\n",
        "        loss='binary_crossentropy',\n",
        "        metrics=['accuracy']\n",
        "    )\n",
        "\n",
        "    return model\n",
        "\n",
        "# Create MobileNet model\n",
        "mobilenet_model = create_mobilenet_model()\n",
        "mobilenet_model.summary()\n",
        "\n",
        "print(\"\\\\nMobileNetV2 model created successfully!\")\n",
        "print(f\"Total parameters: {mobilenet_model.count_params():,}\")\n",
        "\n",
        "# Count trainable parameters\n",
        "trainable_params = sum([tf.keras.backend.count_params(w) for w in mobilenet_model.trainable_weights])\n",
        "print(f\"Trainable parameters: {trainable_params:,}\")\n",
        "print(f\"Non-trainable parameters: {mobilenet_model.count_params() - trainable_params:,}\")"
      ]
    },
    {
      "cell_type": "code",
      "execution_count": 7,
      "metadata": {
        "id": "2NyNTxsRTc2h"
      },
      "outputs": [],
      "source": [
        "# Helper functions for evaluation and visualization\n",
        "def plot_learning_curves(history, title, epochs):\n",
        "    fig, (ax1, ax2) = plt.subplots(1, 2, figsize=(12, 4))\n",
        "\n",
        "    # Plot accuracy\n",
        "    ax1.plot(history.history['accuracy'], 'b-', label='Training Accuracy')\n",
        "    ax1.plot(history.history['val_accuracy'], 'r-', label='Validation Accuracy')\n",
        "    ax1.set_title(f'{title} - Accuracy')\n",
        "    ax1.set_xlabel('Epochs')\n",
        "    ax1.set_ylabel('Accuracy')\n",
        "    ax1.legend()\n",
        "    ax1.grid(True)\n",
        "\n",
        "    # Plot loss\n",
        "    ax2.plot(history.history['loss'], 'b-', label='Training Loss')\n",
        "    ax2.plot(history.history['val_loss'], 'r-', label='Validation Loss')\n",
        "    ax2.set_title(f'{title} - Loss')\n",
        "    ax2.set_xlabel('Epochs')\n",
        "    ax2.set_ylabel('Loss')\n",
        "    ax2.legend()\n",
        "    ax2.grid(True)\n",
        "\n",
        "    plt.tight_layout()\n",
        "    plt.show()\n",
        "\n",
        "def evaluate_model(model, test_generator, model_name):\n",
        "    # Get predictions\n",
        "    test_generator.reset()\n",
        "    predictions = model.predict(test_generator, verbose=0)\n",
        "    y_pred = (predictions > 0.5).astype(int).flatten()\n",
        "    y_true = test_generator.classes\n",
        "\n",
        "    # Calculate metrics for binary classification\n",
        "    accuracy = accuracy_score(y_true, y_pred)\n",
        "    precision = precision_score(y_true, y_pred, average='binary', zero_division=0)\n",
        "    recall = recall_score(y_true, y_pred, average='binary', zero_division=0)\n",
        "    f1 = f1_score(y_true, y_pred, average='binary', zero_division=0)\n",
        "\n",
        "    # ROC curve\n",
        "    fpr, tpr, _ = roc_curve(y_true, predictions.flatten())\n",
        "    roc_auc = auc(fpr, tpr)\n",
        "\n",
        "    # Print results\n",
        "    print(f\"{model_name} Results:\")\n",
        "    print(f\"Accuracy:  {accuracy:.4f} ({accuracy*100:.2f}%)\")\n",
        "    print(f\"Precision: {precision:.4f}\")\n",
        "    print(f\"Recall:    {recall:.4f}\")\n",
        "    print(f\"F1-Score:  {f1:.4f}\")\n",
        "    print(f\"ROC-AUC:   {roc_auc:.4f}\")\n",
        "\n",
        "    return {\n",
        "        'accuracy': accuracy,\n",
        "        'precision': precision,\n",
        "        'recall': recall,\n",
        "        'f1': f1,\n",
        "        'roc_auc': roc_auc,\n",
        "        'y_true': y_true,\n",
        "        'y_pred': y_pred,\n",
        "        'predictions': predictions,\n",
        "        'fpr': fpr,\n",
        "        'tpr': tpr\n",
        "    }"
      ]
    },
    {
      "cell_type": "code",
      "execution_count": 8,
      "metadata": {
        "id": "umQjR_2MoG-9"
      },
      "outputs": [],
      "source": [
        "def create_directories():\n",
        "    if not os.path.exists(training_path):\n",
        "        os.makedirs(os.path.join(training_path, 'Infected'))\n",
        "        os.makedirs(os.path.join(training_path, 'Uninfected'))\n",
        "        print(\"Training directories created!\")\n",
        "\n",
        "    if not os.path.exists(validation_path):\n",
        "        os.makedirs(os.path.join(validation_path, 'Infected'))\n",
        "        os.makedirs(os.path.join(validation_path, 'Uninfected'))\n",
        "        print(\"Validation directories created!\")\n",
        "\n",
        "    if not os.path.exists(testing_path):\n",
        "        os.makedirs(os.path.join(testing_path, 'Infected'))\n",
        "        os.makedirs(os.path.join(testing_path, 'Uninfected'))\n",
        "        print(\"Testing directories created!\")\n",
        "\n",
        "create_directories()"
      ]
    },
    {
      "cell_type": "markdown",
      "metadata": {
        "id": "5sGAQRdHppZL"
      },
      "source": [
        "data splitting function"
      ]
    },
    {
      "cell_type": "code",
      "execution_count": 9,
      "metadata": {
        "colab": {
          "base_uri": "https://localhost:8080/"
        },
        "id": "JgIa4VFBpo5n",
        "outputId": "5413a7de-4053-4c48-e121-a52df042e536"
      },
      "outputs": [
        {
          "name": "stdout",
          "output_type": "stream",
          "text": [
            "Looking for data in:\n",
            "Infected: .\\cell_images\\Parasitized\n",
            "Uninfected: .\\cell_images\\Uninfected\n"
          ]
        },
        {
          "ename": "FileNotFoundError",
          "evalue": "[WinError 3] The system cannot find the path specified: '.\\\\cell_images\\\\Parasitized'",
          "output_type": "error",
          "traceback": [
            "\u001b[31m---------------------------------------------------------------------------\u001b[39m",
            "\u001b[31mFileNotFoundError\u001b[39m                         Traceback (most recent call last)",
            "\u001b[36mCell\u001b[39m\u001b[36m \u001b[39m\u001b[32mIn[9]\u001b[39m\u001b[32m, line 74\u001b[39m\n\u001b[32m     71\u001b[39m     \u001b[38;5;28mprint\u001b[39m(\u001b[33mf\u001b[39m\u001b[33m\"\u001b[39m\u001b[38;5;130;01m\\n\u001b[39;00m\u001b[33mTotal images: \u001b[39m\u001b[38;5;132;01m{\u001b[39;00m\u001b[38;5;28mlen\u001b[39m(infected_images)\u001b[38;5;250m \u001b[39m+\u001b[38;5;250m \u001b[39m\u001b[38;5;28mlen\u001b[39m(uninfected_images)\u001b[38;5;132;01m}\u001b[39;00m\u001b[33m\"\u001b[39m)\n\u001b[32m     73\u001b[39m \u001b[38;5;66;03m# Run data splitting\u001b[39;00m\n\u001b[32m---> \u001b[39m\u001b[32m74\u001b[39m \u001b[43msplit_data_60_20_20\u001b[49m\u001b[43m(\u001b[49m\u001b[43m)\u001b[49m\n\u001b[32m     76\u001b[39m \u001b[38;5;28;01mdef\u001b[39;00m\u001b[38;5;250m \u001b[39m\u001b[34mprepare_602020_split\u001b[39m(source_dir, target_dir):\n\u001b[32m     77\u001b[39m     \u001b[38;5;28mprint\u001b[39m(\u001b[33mf\u001b[39m\u001b[33m\"\u001b[39m\u001b[33mPreparing MobileNet data split from \u001b[39m\u001b[38;5;132;01m{\u001b[39;00msource_dir\u001b[38;5;132;01m}\u001b[39;00m\u001b[33m to \u001b[39m\u001b[38;5;132;01m{\u001b[39;00mtarget_dir\u001b[38;5;132;01m}\u001b[39;00m\u001b[33m\"\u001b[39m)\n",
            "\u001b[36mCell\u001b[39m\u001b[36m \u001b[39m\u001b[32mIn[9]\u001b[39m\u001b[32m, line 11\u001b[39m, in \u001b[36msplit_data_60_20_20\u001b[39m\u001b[34m()\u001b[39m\n\u001b[32m      8\u001b[39m \u001b[38;5;28mprint\u001b[39m(\u001b[33mf\u001b[39m\u001b[33m\"\u001b[39m\u001b[33mUninfected: \u001b[39m\u001b[38;5;132;01m{\u001b[39;00muninfected_dir\u001b[38;5;132;01m}\u001b[39;00m\u001b[33m\"\u001b[39m)\n\u001b[32m     10\u001b[39m \u001b[38;5;66;03m# Get all image files (only png, jpg, jpeg formats)\u001b[39;00m\n\u001b[32m---> \u001b[39m\u001b[32m11\u001b[39m infected_images = [f \u001b[38;5;28;01mfor\u001b[39;00m f \u001b[38;5;129;01min\u001b[39;00m \u001b[43mos\u001b[49m\u001b[43m.\u001b[49m\u001b[43mlistdir\u001b[49m\u001b[43m(\u001b[49m\u001b[43minfected_dir\u001b[49m\u001b[43m)\u001b[49m \u001b[38;5;28;01mif\u001b[39;00m f.endswith((\u001b[33m'\u001b[39m\u001b[33m.png\u001b[39m\u001b[33m'\u001b[39m, \u001b[33m'\u001b[39m\u001b[33m.jpg\u001b[39m\u001b[33m'\u001b[39m, \u001b[33m'\u001b[39m\u001b[33m.jpeg\u001b[39m\u001b[33m'\u001b[39m))]\n\u001b[32m     12\u001b[39m uninfected_images = [f \u001b[38;5;28;01mfor\u001b[39;00m f \u001b[38;5;129;01min\u001b[39;00m os.listdir(uninfected_dir) \u001b[38;5;28;01mif\u001b[39;00m f.endswith((\u001b[33m'\u001b[39m\u001b[33m.png\u001b[39m\u001b[33m'\u001b[39m, \u001b[33m'\u001b[39m\u001b[33m.jpg\u001b[39m\u001b[33m'\u001b[39m, \u001b[33m'\u001b[39m\u001b[33m.jpeg\u001b[39m\u001b[33m'\u001b[39m))]\n\u001b[32m     14\u001b[39m \u001b[38;5;28mprint\u001b[39m(\u001b[33mf\u001b[39m\u001b[33m\"\u001b[39m\u001b[33mFound \u001b[39m\u001b[38;5;132;01m{\u001b[39;00m\u001b[38;5;28mlen\u001b[39m(infected_images)\u001b[38;5;132;01m}\u001b[39;00m\u001b[33m infected images\u001b[39m\u001b[33m\"\u001b[39m)\n",
            "\u001b[31mFileNotFoundError\u001b[39m: [WinError 3] The system cannot find the path specified: '.\\\\cell_images\\\\Parasitized'"
          ]
        }
      ],
      "source": [
        "def split_data_60_20_20():\n",
        "    # Find where our images are stored\n",
        "    infected_dir = os.path.join(cell_images_dir, 'Parasitized')\n",
        "    uninfected_dir = os.path.join(cell_images_dir, 'Uninfected')\n",
        "\n",
        "    print(f\"Looking for data in:\")\n",
        "    print(f\"Infected: {infected_dir}\")\n",
        "    print(f\"Uninfected: {uninfected_dir}\")\n",
        "\n",
        "    # Get all image files (only png, jpg, jpeg formats)\n",
        "    infected_images = [f for f in os.listdir(infected_dir) if f.endswith(('.png', '.jpg', '.jpeg'))]\n",
        "    uninfected_images = [f for f in os.listdir(uninfected_dir) if f.endswith(('.png', '.jpg', '.jpeg'))]\n",
        "\n",
        "    print(f\"Found {len(infected_images)} infected images\")\n",
        "    print(f\"Found {len(uninfected_images)} uninfected images\")\n",
        "\n",
        "    # Mix up the order randomly (but always the same way with seed=42)\n",
        "    random.seed(42)  # Makes results reproducible\n",
        "    random.shuffle(infected_images)\n",
        "    random.shuffle(uninfected_images)\n",
        "\n",
        "    # Figure out how to split images: 60% train, 20% validation, 20% test\n",
        "    def get_splits(total_images):\n",
        "        train_split = int(0.6 * total_images)\n",
        "        val_split = int(0.8 * total_images)  # 60% + 20% = 80%\n",
        "        return train_split, val_split\n",
        "\n",
        "    infected_train_split, infected_val_split = get_splits(len(infected_images))\n",
        "    uninfected_train_split, uninfected_val_split = get_splits(len(uninfected_images))\n",
        "\n",
        "    # Split infected images into train/validation/test\n",
        "    for i, img in enumerate(infected_images):\n",
        "        src = os.path.join(infected_dir, img)\n",
        "\n",
        "        if i < infected_train_split:  # First 60%\n",
        "            dst = os.path.join(training_path, 'Infected', img)\n",
        "        elif i < infected_val_split:  # Next 20% (60%-80%)\n",
        "            dst = os.path.join(validation_path, 'Infected', img)\n",
        "        else:  # Last 20% (80%-100%)\n",
        "            dst = os.path.join(testing_path, 'Infected', img)\n",
        "\n",
        "        if not os.path.exists(dst):\n",
        "            shutil.copy2(src, dst)\n",
        "\n",
        "    for i, img in enumerate(uninfected_images):\n",
        "        src = os.path.join(uninfected_dir, img)\n",
        "\n",
        "        if i < uninfected_train_split:  # First 60%\n",
        "            dst = os.path.join(training_path, 'Uninfected', img)\n",
        "        elif i < uninfected_val_split:  # Next 20% (60%-80%)\n",
        "            dst = os.path.join(validation_path, 'Uninfected', img)\n",
        "        else:  # Last 20% (80%-100%)\n",
        "            dst = os.path.join(testing_path, 'Uninfected', img)\n",
        "\n",
        "        if not os.path.exists(dst):\n",
        "            shutil.copy2(src, dst)\n",
        "\n",
        "    # Calculate and display split statistics\n",
        "    infected_train_count = infected_train_split\n",
        "    infected_val_count = infected_val_split - infected_train_split\n",
        "    infected_test_count = len(infected_images) - infected_val_split\n",
        "\n",
        "    uninfected_train_count = uninfected_train_split\n",
        "    uninfected_val_count = uninfected_val_split - uninfected_train_split\n",
        "    uninfected_test_count = len(uninfected_images) - uninfected_val_split\n",
        "\n",
        "    print(f\"\\n=== 60/20/20 Data Split Completed ===\")\n",
        "    print(f\"Training (60%) - Infected: {infected_train_count}, Uninfected: {uninfected_train_count}\")\n",
        "    print(f\"Validation (20%) - Infected: {infected_val_count}, Uninfected: {uninfected_val_count}\")\n",
        "    print(f\"Testing (20%) - Infected: {infected_test_count}, Uninfected: {uninfected_test_count}\")\n",
        "    print(f\"\\nTotal images: {len(infected_images) + len(uninfected_images)}\")\n",
        "\n",
        "# Run data splitting\n",
        "split_data_60_20_20()\n",
        "\n",
        "def prepare_602020_split(source_dir, target_dir):\n",
        "    print(f\"Preparing MobileNet data split from {source_dir} to {target_dir}\")\n",
        "\n",
        "    # Define source directories (original dataset structure)\n",
        "    parasitized_dir = os.path.join(source_dir, 'Parasitized')\n",
        "    uninfected_dir = os.path.join(source_dir, 'Uninfected')\n",
        "\n",
        "    # Define target directories\n",
        "    train_dir = os.path.join(target_dir, 'train')\n",
        "    val_dir = os.path.join(target_dir, 'val')\n",
        "    test_dir = os.path.join(target_dir, 'test')\n",
        "\n",
        "    # Create target directories\n",
        "    for split in ['train', 'val', 'test']:\n",
        "        for class_name in ['Parasitized', 'Uninfected']:\n",
        "            path = os.path.join(target_dir, split, class_name)\n",
        "            if not os.path.exists(path):\n",
        "                os.makedirs(path)\n",
        "\n",
        "    # Process each class\n",
        "    for class_name, src_dir in [('Parasitized', parasitized_dir), ('Uninfected', uninfected_dir)]:\n",
        "        if not os.path.exists(src_dir):\n",
        "            print(f\"Warning: {src_dir} not found, skipping...\")\n",
        "            continue\n",
        "\n",
        "        images = [f for f in os.listdir(src_dir) if f.endswith(('.png', '.jpg', '.jpeg'))]\n",
        "        random.seed(42)  # For reproducibility\n",
        "        random.shuffle(images)\n",
        "\n",
        "        total = len(images)\n",
        "        train_end = int(0.6 * total)\n",
        "        val_end = int(0.8 * total)\n",
        "\n",
        "        splits = [\n",
        "            ('train', images[:train_end]),\n",
        "            ('val', images[train_end:val_end]),\n",
        "            ('test', images[val_end:])\n",
        "        ]\n",
        "\n",
        "        for split_name, split_images in splits:\n",
        "            for img in split_images:\n",
        "                src = os.path.join(src_dir, img)\n",
        "                dst = os.path.join(target_dir, split_name, class_name, img)\n",
        "                if not os.path.exists(dst):\n",
        "                    shutil.copy2(src, dst)\n",
        "\n",
        "        print(f\"{class_name}: train={len(splits[0][1])}, val={len(splits[1][1])}, test={len(splits[2][1])}\")\n",
        "\n",
        "    print(\"MobileNet 60/20/20 split completed!\")\n"
      ]
    },
    {
      "cell_type": "markdown",
      "metadata": {
        "id": "5lSv89vmpvXZ"
      },
      "source": [
        "data generators"
      ]
    },
    {
      "cell_type": "code",
      "execution_count": null,
      "metadata": {
        "colab": {
          "base_uri": "https://localhost:8080/"
        },
        "id": "_VjAyi_Hpxcq",
        "outputId": "13865666-9e98-41c8-d642-f57f2f7599f9"
      },
      "outputs": [
        {
          "name": "stdout",
          "output_type": "stream",
          "text": [
            "Found 25346 images belonging to 2 classes.\n",
            "Found 5512 images belonging to 2 classes.\n",
            "Found 5512 images belonging to 2 classes.\n",
            "Found 9914 images belonging to 2 classes.\n",
            "Found 9914 images belonging to 2 classes.\n",
            "=== 60/20/20 Data Generators Created Successfully ===\n",
            "Training samples: 25346\n",
            "Validation samples: 5512\n",
            "Testing samples: 9914\n",
            "Total samples: 40772\n",
            "=== 60/20/20 Data Generators Created Successfully ===\n",
            "Training samples: 25346\n",
            "Validation samples: 5512\n",
            "Testing samples: 9914\n",
            "Total samples: 40772\n"
          ]
        }
      ],
      "source": [
        "\n",
        "train_datagen = ImageDataGenerator(\n",
        "    rescale=1./255,           # Make pixel values between 0 and 1\n",
        "    rotation_range=10,        # Randomly rotate images a little\n",
        "    width_shift_range=0.1,    # Randomly move images left/right\n",
        "    height_shift_range=0.1,   # Randomly move images up/down\n",
        "    horizontal_flip=True,     # Sometimes flip images like a mirror\n",
        "    zoom_range=0.1           # Randomly zoom in/out a little\n",
        ")\n",
        "\n",
        "val_test_datagen = ImageDataGenerator(rescale=1./255)  # Only make pixels 0 to 1\n",
        "\n",
        "# Create generators for train, validation, and test sets\n",
        "train_generator = train_datagen.flow_from_directory(\n",
        "    training_path,\n",
        "    target_size=(IMG_HEIGHT, IMG_WIDTH),\n",
        "    batch_size=BATCH_SIZE,\n",
        "    class_mode='categorical',\n",
        "    classes=['Infected', 'Uninfected']\n",
        ")\n",
        "\n",
        "validation_generator = val_test_datagen.flow_from_directory(\n",
        "    validation_path,\n",
        "    target_size=(IMG_HEIGHT, IMG_WIDTH),\n",
        "    batch_size=BATCH_SIZE,\n",
        "    class_mode='categorical',\n",
        "    classes=['Infected', 'Uninfected']\n",
        ")\n",
        "\n",
        "test_generator = val_test_datagen.flow_from_directory(\n",
        "    testing_path,\n",
        "    target_size=(IMG_HEIGHT, IMG_WIDTH),\n",
        "    batch_size=BATCH_SIZE,\n",
        "    class_mode='categorical',\n",
        "    classes=['Infected', 'Uninfected']\n",
        ")\n",
        "\n",
        "print(\"=== 60/20/20 Data Generators Created Successfully ===\")\n",
        "print(f\"Training samples: {train_generator.samples}\")\n",
        "print(f\"Validation samples: {validation_generator.samples}\")\n",
        "print(f\"Testing samples: {test_generator.samples}\")\n",
        "print(f\"Total samples: {train_generator.samples + validation_generator.samples + test_generator.samples}\")"
      ]
    },
    {
      "cell_type": "markdown",
      "metadata": {
        "id": "ywWKMdq9p8X2"
      },
      "source": [
        "## MobileNetV2 Transfer Learning\n",
        "\n",
        "This section provides a compact MobileNetV2 transfer-learning pipeline. It uses a 60/20/20 split, trains for 5 epochs, reports metrics as percentages, and displays comprehensive plots."
      ]
    },
    {
      "cell_type": "code",
      "execution_count": null,
      "metadata": {
        "id": "u7oNV9tqp4te",
        "outputId": "2185f727-da11-410b-9c0b-729c27783626"
      },
      "outputs": [
        {
          "name": "stdout",
          "output_type": "stream",
          "text": [
            "MobileNet experiments configured: FE=6 epochs, FT=8 epochs\n",
            "Data split already exists, using existing split.\n",
            "Model architecture setup ready.\n"
          ]
        }
      ],
      "source": [
        "print(f\"MobileNet experiments configured: FE={EPOCHS_MOBILENET_FE} epochs, FT={EPOCHS_MOBILENET_FT} epochs\")\n",
        "\n",
        "# Paths for MobileNet data\n",
        "dataset_dir = os.path.join('.', 'cell_images')\n",
        "mobilenet_base_dir = os.path.join('.', 'mobilenet_data')\n",
        "train_dir = os.path.join(mobilenet_base_dir, 'train')\n",
        "val_dir = os.path.join(mobilenet_base_dir, 'val')\n",
        "test_dir = os.path.join(mobilenet_base_dir, 'test')\n",
        "\n",
        "# Ensure a 60/20/20 split exists (Parasitized/Uninfected)\n",
        "def _prepare_split_if_missing():\n",
        "    if os.path.exists(train_dir) and os.path.exists(val_dir) and os.path.exists(test_dir):\n",
        "        print(\"Data split already exists, using existing split.\")\n",
        "        return\n",
        "    # Fallback: define a small inline splitter if not already defined elsewhere\n",
        "    try:\n",
        "        prepare_602020_split  # from earlier cell if executed\n",
        "        def _runner():\n",
        "            prepare_602020_split(dataset_dir, mobilenet_base_dir)\n",
        "    except NameError:\n",
        "        def _runner():\n",
        "            os.makedirs(mobilenet_base_dir, exist_ok=True)\n",
        "            classes = ['Parasitized', 'Uninfected']\n",
        "            for split in ['train', 'val', 'test']:\n",
        "                for c in classes:\n",
        "                    os.makedirs(os.path.join(mobilenet_base_dir, split, c), exist_ok=True)\n",
        "            for c in classes:\n",
        "                cdir = os.path.join(dataset_dir, c)\n",
        "                if not os.path.exists(cdir):\n",
        "                    print(f\"Warning: {cdir} not found\")\n",
        "                    continue\n",
        "                imgs = [f for f in os.listdir(cdir) if f.lower().endswith(('.png','.jpg','.jpeg'))]\n",
        "                random.seed(SEED); random.shuffle(imgs)\n",
        "                n = len(imgs); a = int(0.6*n); b = int(0.8*n)\n",
        "                for name, subset in [('train', imgs[:a]), ('val', imgs[a:b]), ('test', imgs[b:])]:\n",
        "                    for f in subset:\n",
        "                        src = os.path.join(cdir, f)\n",
        "                        dst = os.path.join(mobilenet_base_dir, name, c, f)\n",
        "                        if not os.path.exists(dst): shutil.copy2(src, dst)\n",
        "                print(f\"{c}: Train={a}, Val={b-a}, Test={n-b}\")\n",
        "    _runner()\n",
        "    print(\"Data split completed successfully!\")\n",
        "\n",
        "_prepare_split_if_missing()\n",
        "print(\"Model architecture setup ready.\")"
      ]
    },
    {
      "cell_type": "markdown",
      "metadata": {
        "id": "snHMzMfdTc2m"
      },
      "source": [
        "## MobileNetV2: Two Experiments (Feature Extraction vs Fine-Tuning)\n",
        "We run two fast experiments:\n",
        "- Feature extraction: freeze the MobileNetV2 base and train only a small classifier head.\n",
        "- Fine-tuning: unfreeze the top layers of the base and train with a smaller learning rate.\n",
        "Both include callbacks, learning curves, confusion matrix, and ROC/AUC."
      ]
    },
    {
      "cell_type": "markdown",
      "metadata": {
        "id": "KinHNCxeTc2m"
      },
      "source": [
        "Explain: Utility functions to plot confusion matrix and ROC/AUC for model evaluation."
      ]
    },
    {
      "cell_type": "code",
      "execution_count": null,
      "metadata": {
        "id": "TLc2qUURTc2m"
      },
      "outputs": [],
      "source": [
        "# Extra evaluation helpers (confusion matrix and ROC plotting)\n",
        "def plot_confusion_matrix_from_preds(y_true, y_pred, labels):\n",
        "    cm = confusion_matrix(y_true, y_pred)\n",
        "    df_cm = pd.DataFrame(cm, index=labels, columns=labels)\n",
        "    plt.figure(figsize=(4, 3))\n",
        "    sns.heatmap(df_cm, annot=True, fmt='d', cmap='Blues')\n",
        "    plt.title('Confusion Matrix')\n",
        "    plt.ylabel('True label')\n",
        "    plt.xlabel('Predicted label')\n",
        "    plt.tight_layout()\n",
        "    plt.show()\n",
        "\n",
        "def plot_roc_auc(fpr, tpr, auc_value, title='ROC Curve'):\n",
        "    plt.figure(figsize=(4, 3))\n",
        "    plt.plot(fpr, tpr, label=f'AUC = {auc_value:.3f}')\n",
        "    plt.plot([0, 1], [0, 1], 'k--', alpha=0.6)\n",
        "    plt.xlabel('False Positive Rate')\n",
        "    plt.ylabel('True Positive Rate')\n",
        "    plt.title(title)\n",
        "    plt.legend(loc='lower right')\n",
        "    plt.grid(True, alpha=0.3)\n",
        "    plt.tight_layout()\n",
        "    plt.show()"
      ]
    },
    {
      "cell_type": "markdown",
      "metadata": {
        "id": "W961nY1aTc2m"
      },
      "source": [
        "Explain: Build MobileNet-specific data generators with light augmentation for train and simple rescaling for validation/test."
      ]
    },
    {
      "cell_type": "code",
      "execution_count": null,
      "metadata": {
        "id": "ZBfNFkg0Tc2m",
        "outputId": "e3ec884b-b813-4e29-bbde-0326e10d7a38"
      },
      "outputs": [
        {
          "name": "stdout",
          "output_type": "stream",
          "text": [
            "Found 16534 images belonging to 2 classes.\n",
            "Found 5512 images belonging to 2 classes.\n",
            "Found 5512 images belonging to 2 classes.\n",
            "Found 5512 images belonging to 2 classes.\n",
            "Found 5512 images belonging to 2 classes.\n",
            "Train/Val/Test: 16534/5512/5512\n",
            "Class indices: {'Parasitized': 0, 'Uninfected': 1}\n",
            "Train/Val/Test: 16534/5512/5512\n",
            "Class indices: {'Parasitized': 0, 'Uninfected': 1}\n"
          ]
        }
      ],
      "source": [
        "# MobileNet-specific generators (binary classes: Parasitized=0, Uninfected=1)\n",
        "mobilenet_train_datagen = ImageDataGenerator(\n",
        "    rescale=1./255,\n",
        "    rotation_range=20, width_shift_range=0.1, height_shift_range=0.1,\n",
        "    zoom_range=0.15, horizontal_flip=True, fill_mode='nearest'\n",
        ")\n",
        "mobilenet_val_datagen = ImageDataGenerator(rescale=1./255)\n",
        "\n",
        "mobilenet_train_gen = mobilenet_train_datagen.flow_from_directory(\n",
        "    train_dir, target_size=(IMG_HEIGHT, IMG_WIDTH), batch_size=BATCH_SIZE,\n",
        "    class_mode='binary', shuffle=True, seed=SEED\n",
        ")\n",
        "mobilenet_val_gen = mobilenet_val_datagen.flow_from_directory(\n",
        "    val_dir, target_size=(IMG_HEIGHT, IMG_WIDTH), batch_size=BATCH_SIZE,\n",
        "    class_mode='binary', shuffle=False\n",
        ")\n",
        "mobilenet_test_gen = mobilenet_val_datagen.flow_from_directory(\n",
        "    test_dir, target_size=(IMG_HEIGHT, IMG_WIDTH), batch_size=BATCH_SIZE,\n",
        "    class_mode='binary', shuffle=False\n",
        ")\n",
        "print(f\"Train/Val/Test: {mobilenet_train_gen.samples}/{mobilenet_val_gen.samples}/{mobilenet_test_gen.samples}\")\n",
        "print(f\"Class indices: {mobilenet_train_gen.class_indices}\")"
      ]
    },
    {
      "cell_type": "markdown",
      "metadata": {
        "id": "--4asFbUTc2m"
      },
      "source": [
        "Explain: Experiment A (Feature Extraction) — freeze base, train a small classifier head with callbacks, evaluate and save."
      ]
    },
    {
      "cell_type": "code",
      "execution_count": null,
      "metadata": {
        "id": "FjtURtodTc2n",
        "outputId": "4189233d-1013-4469-9890-91504fce907c"
      },
      "outputs": [
        {
          "name": "stdout",
          "output_type": "stream",
          "text": [
            "Epoch 1/6\n",
            "\u001b[1m517/517\u001b[0m \u001b[32m━━━━━━━━━━━━━━━━━━━━\u001b[0m\u001b[37m\u001b[0m \u001b[1m0s\u001b[0m 973ms/step - accuracy: 0.7927 - auc: 0.8702 - loss: 0.4358\n",
            "Epoch 1: val_accuracy improved from None to 0.87046, saving model to mobilenet_fe.keras\n",
            "\u001b[1m517/517\u001b[0m \u001b[32m━━━━━━━━━━━━━━━━━━━━\u001b[0m\u001b[37m\u001b[0m \u001b[1m649s\u001b[0m 1s/step - accuracy: 0.8440 - auc: 0.9220 - loss: 0.3551 - val_accuracy: 0.8705 - val_auc: 0.9656 - val_loss: 0.2884 - learning_rate: 0.0010\n",
            "Epoch 2/6\n",
            "\u001b[1m517/517\u001b[0m \u001b[32m━━━━━━━━━━━━━━━━━━━━\u001b[0m\u001b[37m\u001b[0m \u001b[1m0s\u001b[0m 467ms/step - accuracy: 0.8822 - auc: 0.9489 - loss: 0.2877\n",
            "Epoch 2: val_accuracy improved from 0.87046 to 0.88570, saving model to mobilenet_fe.keras\n",
            "\u001b[1m517/517\u001b[0m \u001b[32m━━━━━━━━━━━━━━━━━━━━\u001b[0m\u001b[37m\u001b[0m \u001b[1m316s\u001b[0m 612ms/step - accuracy: 0.8854 - auc: 0.9491 - loss: 0.2865 - val_accuracy: 0.8857 - val_auc: 0.9685 - val_loss: 0.2643 - learning_rate: 0.0010\n",
            "Epoch 3/6\n",
            "\u001b[1m517/517\u001b[0m \u001b[32m━━━━━━━━━━━━━━━━━━━━\u001b[0m\u001b[37m\u001b[0m \u001b[1m0s\u001b[0m 529ms/step - accuracy: 0.8917 - auc: 0.9545 - loss: 0.2711\n",
            "Epoch 3: val_accuracy improved from 0.88570 to 0.90221, saving model to mobilenet_fe.keras\n",
            "\u001b[1m517/517\u001b[0m \u001b[32m━━━━━━━━━━━━━━━━━━━━\u001b[0m\u001b[37m\u001b[0m \u001b[1m350s\u001b[0m 677ms/step - accuracy: 0.8909 - auc: 0.9541 - loss: 0.2730 - val_accuracy: 0.9022 - val_auc: 0.9702 - val_loss: 0.2365 - learning_rate: 0.0010\n",
            "Epoch 4/6\n",
            "\u001b[1m517/517\u001b[0m \u001b[32m━━━━━━━━━━━━━━━━━━━━\u001b[0m\u001b[37m\u001b[0m \u001b[1m0s\u001b[0m 499ms/step - accuracy: 0.8945 - auc: 0.9565 - loss: 0.2663\n",
            "Epoch 4: ReduceLROnPlateau reducing learning rate to 0.0005000000237487257.\n",
            "\n",
            "Epoch 4: val_accuracy did not improve from 0.90221\n",
            "\u001b[1m517/517\u001b[0m \u001b[32m━━━━━━━━━━━━━━━━━━━━\u001b[0m\u001b[37m\u001b[0m \u001b[1m304s\u001b[0m 587ms/step - accuracy: 0.8951 - auc: 0.9567 - loss: 0.2657 - val_accuracy: 0.8852 - val_auc: 0.9712 - val_loss: 0.2651 - learning_rate: 0.0010\n",
            "Epoch 5/6\n",
            "\u001b[1m517/517\u001b[0m \u001b[32m━━━━━━━━━━━━━━━━━━━━\u001b[0m\u001b[37m\u001b[0m \u001b[1m0s\u001b[0m 389ms/step - accuracy: 0.9002 - auc: 0.9595 - loss: 0.2577\n",
            "Epoch 5: ReduceLROnPlateau reducing learning rate to 0.0002500000118743628.\n",
            "\n",
            "Epoch 5: val_accuracy did not improve from 0.90221\n",
            "\u001b[1m517/517\u001b[0m \u001b[32m━━━━━━━━━━━━━━━━━━━━\u001b[0m\u001b[37m\u001b[0m \u001b[1m247s\u001b[0m 478ms/step - accuracy: 0.9029 - auc: 0.9598 - loss: 0.2545 - val_accuracy: 0.8806 - val_auc: 0.9710 - val_loss: 0.2767 - learning_rate: 5.0000e-04\n",
            "Epoch 5: early stopping\n",
            "Restoring model weights from the end of the best epoch: 3.\n"
          ]
        },
        {
          "data": {
            "image/png": "[encoded data removed]",
            "text/plain": [
              "<Figure size 1200x400 with 2 Axes>"
            ]
          },
          "metadata": {},
          "output_type": "display_data"
        },
        {
          "name": "stdout",
          "output_type": "stream",
          "text": [
            "MobileNetV2 - Feature Extraction Results:\n",
            "Accuracy:  0.9051 (90.51%)\n",
            "Precision: 0.8681\n",
            "Recall:    0.9554\n",
            "F1-Score:  0.9097\n",
            "ROC-AUC:   0.9703\n"
          ]
        },
        {
          "data": {
            "image/png": "[encoded data removed]",
            "text/plain": [
              "<Figure size 400x300 with 2 Axes>"
            ]
          },
          "metadata": {},
          "output_type": "display_data"
        },
        {
          "data": {
            "image/png": "[encoded data removed]",
            "text/plain": [
              "<Figure size 400x300 with 1 Axes>"
            ]
          },
          "metadata": {},
          "output_type": "display_data"
        }
      ],
      "source": [
        "# Experiment A: Feature Extraction (freeze base) — fast and stable\n",
        "base_model = MobileNetV2(weights='imagenet', include_top=False, input_shape=(IMG_HEIGHT, IMG_WIDTH, 3))\n",
        "base_model.trainable = False\n",
        "\n",
        "inputs = tf.keras.Input(shape=(IMG_HEIGHT, IMG_WIDTH, 3))\n",
        "x = base_model(inputs, training=False)\n",
        "x = GlobalAveragePooling2D()(x)\n",
        "x = Dropout(0.30)(x)\n",
        "outputs = Dense(1, activation='sigmoid')(x)\n",
        "mobilenet_fe = tf.keras.Model(inputs, outputs, name='MobileNetV2_FE')\n",
        "\n",
        "mobilenet_fe.compile(\n",
        "    optimizer=Adam(learning_rate=1e-3),\n",
        "    loss='binary_crossentropy',\n",
        "    metrics=['accuracy', tf.keras.metrics.AUC(name='auc')]\n",
        ")\n",
        "\n",
        "cb_fe = [\n",
        "    EarlyStopping(monitor='val_accuracy', patience=2, restore_best_weights=True, mode='max', verbose=1),\n",
        "    ReduceLROnPlateau(monitor='val_loss', factor=0.5, patience=1, min_lr=1e-6, verbose=1),\n",
        "    ModelCheckpoint('mobilenet_fe.keras', monitor='val_accuracy', mode='max', save_best_only=True, verbose=1)\n",
        "]\n",
        "\n",
        "history_fe = mobilenet_fe.fit(\n",
        "    mobilenet_train_gen,\n",
        "    validation_data=mobilenet_val_gen,\n",
        "    epochs=EPOCHS_MOBILENET_FE,\n",
        "    callbacks=cb_fe,\n",
        "    verbose=1,\n",
        ")\n",
        "\n",
        "plot_learning_curves(history_fe, 'MobileNetV2 - Feature Extraction', EPOCHS_MOBILENET_FE)\n",
        "fe_eval = evaluate_model(mobilenet_fe, mobilenet_test_gen, 'MobileNetV2 - Feature Extraction')\n",
        "plot_confusion_matrix_from_preds(fe_eval['y_true'], fe_eval['y_pred'], ['Parasitized', 'Uninfected'])\n",
        "plot_roc_auc(fe_eval['fpr'], fe_eval['tpr'], fe_eval['roc_auc'], title='MobileNetV2 FE - ROC')\n",
        "\n",
        "# Save the feature extraction model snapshot\n",
        "mobilenet_fe.save('mobilenet_fe_final.keras')\n",
        "\n",
        "# Store results for the summary table\n",
        "mobilenet_runs = [{\n",
        "    'Experiment': 'Feature Extraction',\n",
        "    'epochs': len(history_fe.history['accuracy']),\n",
        "    'accuracy': fe_eval['accuracy'],\n",
        "    'precision': fe_eval['precision'],\n",
        "    'recall': fe_eval['recall'],\n",
        "    'f1': fe_eval['f1'],\n",
        "    'roc_auc': fe_eval['roc_auc']\n",
        "}]"
      ]
    },
    {
      "cell_type": "markdown",
      "metadata": {
        "id": "gclq5l6sTc2n"
      },
      "source": [
        "Explain: Experiment B (Fine-Tuning) — unfreeze top layers, lower LR, train briefly with callbacks, evaluate and save."
      ]
    },
    {
      "cell_type": "code",
      "execution_count": null,
      "metadata": {
        "id": "pvEcOLx2Tc2n",
        "outputId": "98d16517-9efd-4472-9f0f-12b42f6dbcd0"
      },
      "outputs": [
        {
          "name": "stdout",
          "output_type": "stream",
          "text": [
            "Epoch 1/8\n",
            "\u001b[1m517/517\u001b[0m \u001b[32m━━━━━━━━━━━━━━━━━━━━\u001b[0m\u001b[37m\u001b[0m \u001b[1m0s\u001b[0m 510ms/step - accuracy: 0.8214 - auc: 0.9400 - loss: 0.5205\n",
            "Epoch 1: val_accuracy improved from None to 0.78302, saving model to mobilenet_ft.keras\n",
            "\n",
            "Epoch 1: val_accuracy improved from None to 0.78302, saving model to mobilenet_ft.keras\n",
            "\u001b[1m517/517\u001b[0m \u001b[32m━━━━━━━━━━━━━━━━━━━━\u001b[0m\u001b[37m\u001b[0m \u001b[1m323s\u001b[0m 600ms/step - accuracy: 0.8769 - auc: 0.9492 - loss: 0.3726 - val_accuracy: 0.7830 - val_auc: 0.9610 - val_loss: 0.6943 - learning_rate: 1.0000e-05\n",
            "Epoch 2/8\n",
            "\u001b[1m517/517\u001b[0m \u001b[32m━━━━━━━━━━━━━━━━━━━━\u001b[0m\u001b[37m\u001b[0m \u001b[1m323s\u001b[0m 600ms/step - accuracy: 0.8769 - auc: 0.9492 - loss: 0.3726 - val_accuracy: 0.7830 - val_auc: 0.9610 - val_loss: 0.6943 - learning_rate: 1.0000e-05\n",
            "Epoch 2/8\n",
            "\u001b[1m517/517\u001b[0m \u001b[32m━━━━━━━━━━━━━━━━━━━━\u001b[0m\u001b[37m\u001b[0m \u001b[1m0s\u001b[0m 506ms/step - accuracy: 0.9248 - auc: 0.9668 - loss: 0.2454\n",
            "Epoch 2: val_accuracy improved from 0.78302 to 0.86956, saving model to mobilenet_ft.keras\n",
            "\n",
            "Epoch 2: val_accuracy improved from 0.78302 to 0.86956, saving model to mobilenet_ft.keras\n",
            "\u001b[1m517/517\u001b[0m \u001b[32m━━━━━━━━━━━━━━━━━━━━\u001b[0m\u001b[37m\u001b[0m \u001b[1m312s\u001b[0m 603ms/step - accuracy: 0.9233 - auc: 0.9664 - loss: 0.2459 - val_accuracy: 0.8696 - val_auc: 0.9749 - val_loss: 0.3872 - learning_rate: 1.0000e-05\n",
            "Epoch 3/8\n",
            "\u001b[1m517/517\u001b[0m \u001b[32m━━━━━━━━━━━━━━━━━━━━\u001b[0m\u001b[37m\u001b[0m \u001b[1m312s\u001b[0m 603ms/step - accuracy: 0.9233 - auc: 0.9664 - loss: 0.2459 - val_accuracy: 0.8696 - val_auc: 0.9749 - val_loss: 0.3872 - learning_rate: 1.0000e-05\n",
            "Epoch 3/8\n",
            "\u001b[1m517/517\u001b[0m \u001b[32m━━━━━━━━━━━━━━━━━━━━\u001b[0m\u001b[37m\u001b[0m \u001b[1m0s\u001b[0m 519ms/step - accuracy: 0.9293 - auc: 0.9729 - loss: 0.2161\n",
            "Epoch 3: val_accuracy improved from 0.86956 to 0.92181, saving model to mobilenet_ft.keras\n",
            "\n",
            "Epoch 3: val_accuracy improved from 0.86956 to 0.92181, saving model to mobilenet_ft.keras\n",
            "\u001b[1m517/517\u001b[0m \u001b[32m━━━━━━━━━━━━━━━━━━━━\u001b[0m\u001b[37m\u001b[0m \u001b[1m317s\u001b[0m 613ms/step - accuracy: 0.9292 - auc: 0.9727 - loss: 0.2147 - val_accuracy: 0.9218 - val_auc: 0.9813 - val_loss: 0.2351 - learning_rate: 1.0000e-05\n",
            "Epoch 4/8\n",
            "\u001b[1m517/517\u001b[0m \u001b[32m━━━━━━━━━━━━━━━━━━━━\u001b[0m\u001b[37m\u001b[0m \u001b[1m317s\u001b[0m 613ms/step - accuracy: 0.9292 - auc: 0.9727 - loss: 0.2147 - val_accuracy: 0.9218 - val_auc: 0.9813 - val_loss: 0.2351 - learning_rate: 1.0000e-05\n",
            "Epoch 4/8\n",
            "\u001b[1m517/517\u001b[0m \u001b[32m━━━━━━━━━━━━━━━━━━━━\u001b[0m\u001b[37m\u001b[0m \u001b[1m0s\u001b[0m 504ms/step - accuracy: 0.9300 - auc: 0.9727 - loss: 0.2152\n",
            "Epoch 4: val_accuracy improved from 0.92181 to 0.93759, saving model to mobilenet_ft.keras\n",
            "\n",
            "Epoch 4: val_accuracy improved from 0.92181 to 0.93759, saving model to mobilenet_ft.keras\n",
            "\u001b[1m517/517\u001b[0m \u001b[32m━━━━━━━━━━━━━━━━━━━━\u001b[0m\u001b[37m\u001b[0m \u001b[1m308s\u001b[0m 596ms/step - accuracy: 0.9324 - auc: 0.9746 - loss: 0.2027 - val_accuracy: 0.9376 - val_auc: 0.9839 - val_loss: 0.1891 - learning_rate: 1.0000e-05\n",
            "Epoch 5/8\n",
            "\u001b[1m517/517\u001b[0m \u001b[32m━━━━━━━━━━━━━━━━━━━━\u001b[0m\u001b[37m\u001b[0m \u001b[1m308s\u001b[0m 596ms/step - accuracy: 0.9324 - auc: 0.9746 - loss: 0.2027 - val_accuracy: 0.9376 - val_auc: 0.9839 - val_loss: 0.1891 - learning_rate: 1.0000e-05\n",
            "Epoch 5/8\n",
            "\u001b[1m517/517\u001b[0m \u001b[32m━━━━━━━━━━━━━━━━━━━━\u001b[0m\u001b[37m\u001b[0m \u001b[1m0s\u001b[0m 492ms/step - accuracy: 0.9406 - auc: 0.9778 - loss: 0.1870\n",
            "Epoch 5: ReduceLROnPlateau reducing learning rate to 4.999999873689376e-06.\n",
            "\n",
            "Epoch 5: val_accuracy did not improve from 0.93759\n",
            "\u001b[1m517/517\u001b[0m \u001b[32m━━━━━━━━━━━━━━━━━━━━\u001b[0m\u001b[37m\u001b[0m \u001b[1m305s\u001b[0m 590ms/step - accuracy: 0.9401 - auc: 0.9771 - loss: 0.1881 - val_accuracy: 0.9361 - val_auc: 0.9834 - val_loss: 0.1990 - learning_rate: 1.0000e-05\n",
            "\n",
            "Epoch 5: ReduceLROnPlateau reducing learning rate to 4.999999873689376e-06.\n",
            "\n",
            "Epoch 5: val_accuracy did not improve from 0.93759\n",
            "\u001b[1m517/517\u001b[0m \u001b[32m━━━━━━━━━━━━━━━━━━━━\u001b[0m\u001b[37m\u001b[0m \u001b[1m305s\u001b[0m 590ms/step - accuracy: 0.9401 - auc: 0.9771 - loss: 0.1881 - val_accuracy: 0.9361 - val_auc: 0.9834 - val_loss: 0.1990 - learning_rate: 1.0000e-05\n",
            "Epoch 6/8\n",
            "Epoch 6/8\n",
            "\u001b[1m517/517\u001b[0m \u001b[32m━━━━━━━━━━━━━━━━━━━━\u001b[0m\u001b[37m\u001b[0m \u001b[1m0s\u001b[0m 527ms/step - accuracy: 0.9429 - auc: 0.9808 - loss: 0.1723\n",
            "Epoch 6: val_accuracy improved from 0.93759 to 0.94557, saving model to mobilenet_ft.keras\n",
            "\n",
            "Epoch 6: val_accuracy improved from 0.93759 to 0.94557, saving model to mobilenet_ft.keras\n",
            "\u001b[1m517/517\u001b[0m \u001b[32m━━━━━━━━━━━━━━━━━━━━\u001b[0m\u001b[37m\u001b[0m \u001b[1m321s\u001b[0m 620ms/step - accuracy: 0.9421 - auc: 0.9797 - loss: 0.1779 - val_accuracy: 0.9456 - val_auc: 0.9838 - val_loss: 0.1698 - learning_rate: 5.0000e-06\n",
            "Epoch 7/8\n",
            "\u001b[1m517/517\u001b[0m \u001b[32m━━━━━━━━━━━━━━━━━━━━\u001b[0m\u001b[37m\u001b[0m \u001b[1m321s\u001b[0m 620ms/step - accuracy: 0.9421 - auc: 0.9797 - loss: 0.1779 - val_accuracy: 0.9456 - val_auc: 0.9838 - val_loss: 0.1698 - learning_rate: 5.0000e-06\n",
            "Epoch 7/8\n",
            "\u001b[1m517/517\u001b[0m \u001b[32m━━━━━━━━━━━━━━━━━━━━\u001b[0m\u001b[37m\u001b[0m \u001b[1m0s\u001b[0m 520ms/step - accuracy: 0.9423 - auc: 0.9792 - loss: 0.1759\n",
            "Epoch 7: val_accuracy improved from 0.94557 to 0.94920, saving model to mobilenet_ft.keras\n",
            "\n",
            "Epoch 7: val_accuracy improved from 0.94557 to 0.94920, saving model to mobilenet_ft.keras\n",
            "\u001b[1m517/517\u001b[0m \u001b[32m━━━━━━━━━━━━━━━━━━━━\u001b[0m\u001b[37m\u001b[0m \u001b[1m319s\u001b[0m 617ms/step - accuracy: 0.9411 - auc: 0.9798 - loss: 0.1774 - val_accuracy: 0.9492 - val_auc: 0.9853 - val_loss: 0.1611 - learning_rate: 5.0000e-06\n",
            "Epoch 8/8\n",
            "\u001b[1m517/517\u001b[0m \u001b[32m━━━━━━━━━━━━━━━━━━━━\u001b[0m\u001b[37m\u001b[0m \u001b[1m319s\u001b[0m 617ms/step - accuracy: 0.9411 - auc: 0.9798 - loss: 0.1774 - val_accuracy: 0.9492 - val_auc: 0.9853 - val_loss: 0.1611 - learning_rate: 5.0000e-06\n",
            "Epoch 8/8\n",
            "\u001b[1m517/517\u001b[0m \u001b[32m━━━━━━━━━━━━━━━━━━━━\u001b[0m\u001b[37m\u001b[0m \u001b[1m0s\u001b[0m 600ms/step - accuracy: 0.9421 - auc: 0.9792 - loss: 0.1786\n",
            "Epoch 8: val_accuracy did not improve from 0.94920\n",
            "\u001b[1m517/517\u001b[0m \u001b[32m━━━━━━━━━━━━━━━━━━━━\u001b[0m\u001b[37m\u001b[0m \u001b[1m363s\u001b[0m 703ms/step - accuracy: 0.9412 - auc: 0.9789 - loss: 0.1810 - val_accuracy: 0.9478 - val_auc: 0.9852 - val_loss: 0.1595 - learning_rate: 5.0000e-06\n",
            "\n",
            "Epoch 8: val_accuracy did not improve from 0.94920\n",
            "\u001b[1m517/517\u001b[0m \u001b[32m━━━━━━━━━━━━━━━━━━━━\u001b[0m\u001b[37m\u001b[0m \u001b[1m363s\u001b[0m 703ms/step - accuracy: 0.9412 - auc: 0.9789 - loss: 0.1810 - val_accuracy: 0.9478 - val_auc: 0.9852 - val_loss: 0.1595 - learning_rate: 5.0000e-06\n",
            "Restoring model weights from the end of the best epoch: 7.\n",
            "Restoring model weights from the end of the best epoch: 7.\n"
          ]
        },
        {
          "data": {
            "image/png": "[encoded data removed]",
            "text/plain": [
              "<Figure size 1200x400 with 2 Axes>"
            ]
          },
          "metadata": {},
          "output_type": "display_data"
        },
        {
          "name": "stdout",
          "output_type": "stream",
          "text": [
            "MobileNetV2 - Fine-Tuning Results:\n",
            "Accuracy:  0.9496 (94.96%)\n",
            "Precision: 0.9287\n",
            "Recall:    0.9739\n",
            "F1-Score:  0.9508\n",
            "ROC-AUC:   0.9874\n"
          ]
        },
        {
          "data": {
            "image/png": "[encoded data removed]",
            "text/plain": [
              "<Figure size 400x300 with 2 Axes>"
            ]
          },
          "metadata": {},
          "output_type": "display_data"
        },
        {
          "data": {
            "image/png": "[encoded data removed]",
            "text/plain": [
              "<Figure size 400x300 with 1 Axes>"
            ]
          },
          "metadata": {},
          "output_type": "display_data"
        }
      ],
      "source": [
        "UNFREEZE_LAYERS = 40  # top-N layers to fine-tune\n",
        "\n",
        "# Unfreeze part of the base model and recompile with a smaller LR\n",
        "base_model.trainable = True\n",
        "for layer in base_model.layers[:-UNFREEZE_LAYERS]:\n",
        "    layer.trainable = False\n",
        "\n",
        "mobilenet_fe.compile(  # same graph, different trainable set\n",
        "    optimizer=Adam(learning_rate=1e-5),\n",
        "    loss='binary_crossentropy',\n",
        "    metrics=['accuracy', tf.keras.metrics.AUC(name='auc')]\n",
        ")\n",
        "\n",
        "cb_ft = [\n",
        "    EarlyStopping(monitor='val_accuracy', patience=3, restore_best_weights=True, mode='max', verbose=1),\n",
        "    ReduceLROnPlateau(monitor='val_loss', factor=0.5, patience=1, min_lr=1e-7, verbose=1),\n",
        "    ModelCheckpoint('mobilenet_ft.keras', monitor='val_accuracy', mode='max', save_best_only=True, verbose=1)\n",
        "]\n",
        "\n",
        "history_ft = mobilenet_fe.fit(\n",
        "    mobilenet_train_gen,\n",
        "    validation_data=mobilenet_val_gen,\n",
        "    epochs=EPOCHS_MOBILENET_FT,\n",
        "    callbacks=cb_ft,\n",
        "    verbose=1,\n",
        ")\n",
        "\n",
        "plot_learning_curves(history_ft, 'MobileNetV2 - Fine-Tuning', EPOCHS_MOBILENET_FT)\n",
        "ft_eval = evaluate_model(mobilenet_fe, mobilenet_test_gen, 'MobileNetV2 - Fine-Tuning')\n",
        "plot_confusion_matrix_from_preds(ft_eval['y_true'], ft_eval['y_pred'], ['Parasitized', 'Uninfected'])\n",
        "plot_roc_auc(ft_eval['fpr'], ft_eval['tpr'], ft_eval['roc_auc'], title='MobileNetV2 FT - ROC')\n",
        "\n",
        "# Save the fine-tuned model snapshot\n",
        "mobilenet_fe.save('mobilenet_ft_final.keras')\n",
        "\n",
        "mobilenet_runs.append({\n",
        "    'Experiment': f'Fine-Tuning (top {UNFREEZE_LAYERS})',\n",
        "    'epochs': len(history_ft.history['accuracy']),\n",
        "    'accuracy': ft_eval['accuracy'],\n",
        "    'precision': ft_eval['precision'],\n",
        "    'recall': ft_eval['recall'],\n",
        "    'f1': ft_eval['f1'],\n",
        "    'roc_auc': ft_eval['roc_auc']\n",
        "})"
      ]
    },
    {
      "cell_type": "markdown",
      "metadata": {
        "id": "FObhf9GWTc2n"
      },
      "source": [
        "Explain: Build a compact results table with metrics from both experiments."
      ]
    },
    {
      "cell_type": "code",
      "execution_count": null,
      "metadata": {
        "id": "q_OhHMKETc2n",
        "outputId": "955a2268-794f-4a5e-81fd-61d7b6f78355"
      },
      "outputs": [
        {
          "name": "stdout",
          "output_type": "stream",
          "text": [
            "          Experiment  epochs  accuracy  precision   recall       f1  roc_auc\n",
            "  Feature Extraction       5  0.905116   0.868117 0.955370 0.909656 0.970256\n",
            "Fine-Tuning (top 40)       8  0.949565   0.928720 0.973875 0.950762 0.987358\n"
          ]
        }
      ],
      "source": [
        "# Compact results table\n",
        "results_df = pd.DataFrame(mobilenet_runs)\n",
        "results_df = results_df[['Experiment', 'epochs', 'accuracy', 'precision', 'recall', 'f1', 'roc_auc']]\n",
        "print(results_df.to_string(index=False))"
      ]
    },
    {
      "cell_type": "markdown",
      "metadata": {
        "id": "jDzYMbS2Tc2o"
      },
      "source": [
        "Explain: Compare experiments, save a CSV of results, pick the best model (by F1 then AUC), and copy it to mobilenet_best.keras."
      ]
    },
    {
      "cell_type": "code",
      "execution_count": null,
      "metadata": {
        "id": "mKP3nO3rTc2o",
        "outputId": "b521498e-c251-46bf-b3b4-3b710bf44d0d"
      },
      "outputs": [
        {
          "name": "stdout",
          "output_type": "stream",
          "text": [
            "Best experiment: Fine-Tuning (top 40)\n",
            "accuracy     0.949565\n",
            "precision     0.92872\n",
            "recall       0.973875\n",
            "f1           0.950762\n",
            "roc_auc      0.987358\n",
            "Saved best model to mobilenet_best.keras from mobilenet_ft_final.keras\n"
          ]
        }
      ],
      "source": [
        "# Compare FE vs FT, save CSV, and export the best model artifact\n",
        "results_df.to_csv('mobilenet_results.csv', index=False)\n",
        "cmp = results_df.sort_values(['f1', 'roc_auc', 'accuracy'], ascending=False).reset_index(drop=True)\n",
        "best = cmp.iloc[0]\n",
        "best_is_fe = ('Feature Extraction' in str(best['Experiment']))\n",
        "best_path = 'mobilenet_fe_final.keras' if best_is_fe else 'mobilenet_ft_final.keras'\n",
        "print('Best experiment:', best['Experiment'])\n",
        "print(best[['accuracy','precision','recall','f1','roc_auc']].to_string())\n",
        "\n",
        "if os.path.exists(best_path):\n",
        "    shutil.copyfile(best_path, 'mobilenet_best.keras')\n",
        "    print(f\"Saved best model to mobilenet_best.keras from {best_path}\")\n",
        "else:\n",
        "    print(f\"Warning: expected model file not found: {best_path}\")"
      ]
    }
  ],
  "metadata": {
    "accelerator": "GPU",
    "colab": {
      "collapsed_sections": [
        "tOLKwB788wPg",
        "ucbuZSRLxdoq"
      ],
      "gpuType": "T4",
      "provenance": []
    },
    "hide_input": false,
    "kernelspec": {
      "display_name": "Python 3",
      "language": "python",
      "name": "python3"
    },
    "language_info": {
      "codemirror_mode": {
        "name": "ipython",
        "version": 3
      },
      "file_extension": ".py",
      "mimetype": "text/x-python",
      "name": "python",
      "nbconvert_exporter": "python",
      "pygments_lexer": "ipython3",
      "version": "3.13.7"
    },
    "toc": {
      "base_numbering": 1,
      "nav_menu": {},
      "number_sections": true,
      "sideBar": true,
      "skip_h1_title": false,
      "title_cell": "Table of Contents",
      "title_sidebar": "Contents",
      "toc_cell": false,
      "toc_position": {},
      "toc_section_display": true,
      "toc_window_display": false
    }
  },
  "nbformat": 4,
  "nbformat_minor": 0
}
